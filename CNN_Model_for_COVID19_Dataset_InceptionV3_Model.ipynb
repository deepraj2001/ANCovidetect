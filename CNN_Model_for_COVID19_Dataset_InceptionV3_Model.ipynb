{
  "nbformat": 4,
  "nbformat_minor": 0,
  "metadata": {
    "accelerator": "GPU",
    "colab": {
      "name": "CNN_Model_for_COVID19_Dataset_InceptionV3_Model.ipynb",
      "provenance": [],
      "collapsed_sections": []
    },
    "kernelspec": {
      "display_name": "Python 3",
      "language": "python",
      "name": "python3"
    },
    "language_info": {
      "codemirror_mode": {
        "name": "ipython",
        "version": 3
      },
      "file_extension": ".py",
      "mimetype": "text/x-python",
      "name": "python",
      "nbconvert_exporter": "python",
      "pygments_lexer": "ipython3",
      "version": "3.6.13"
    }
  },
  "cells": [
    {
      "cell_type": "markdown",
      "metadata": {
        "id": "muDsrVgVKlN2"
      },
      "source": [
        "#Importing Modules"
      ]
    },
    {
      "cell_type": "code",
      "metadata": {
        "id": "LogCWbp0OrWn"
      },
      "source": [
        "import numpy as np\n",
        "import pandas as pd\n",
        "import tensorflow as tf\n",
        "from tensorflow.keras import layers, models\n",
        "from tensorflow.keras.layers import Conv2D,MaxPooling2D,Flatten,Dense,Dropout,Input\n",
        "import matplotlib.pyplot as plt\n",
        "import keras\n",
        "from keras.utils.np_utils import to_categorical\n",
        "\n"
      ],
      "execution_count": null,
      "outputs": []
    },
    {
      "cell_type": "code",
      "metadata": {
        "id": "Yy2IlbFSOuNU"
      },
      "source": [
        "from tensorflow.keras.preprocessing.image import ImageDataGenerator\n",
        "from tensorflow.keras.applications import VGG16\n",
        "from tensorflow.keras.layers import AveragePooling2D,GlobalAveragePooling2D\n",
        "from tensorflow.keras.layers import Dropout\n",
        "from tensorflow.keras.layers import Flatten\n",
        "from tensorflow.keras.layers import Dense\n",
        "from tensorflow.keras.layers import Input\n",
        "from tensorflow.keras.models import Model\n",
        "from tensorflow.keras.optimizers import Adam\n",
        "from tensorflow.keras.utils import to_categorical\n",
        "from sklearn.preprocessing import LabelBinarizer\n",
        "from sklearn.model_selection import train_test_split\n",
        "from sklearn.metrics import classification_report\n",
        "from sklearn.metrics import confusion_matrix\n",
        "\n",
        "import matplotlib.pyplot as plt\n",
        "import numpy as np\n",
        "import argparse\n",
        "import cv2\n",
        "import os"
      ],
      "execution_count": null,
      "outputs": []
    },
    {
      "cell_type": "code",
      "metadata": {
        "id": "lODWNdkD3l_b"
      },
      "source": [
        ""
      ],
      "execution_count": null,
      "outputs": []
    },
    {
      "cell_type": "code",
      "metadata": {
        "id": "laXhCEWPOx8W"
      },
      "source": [
        "! pip install -q kaggle"
      ],
      "execution_count": null,
      "outputs": []
    },
    {
      "cell_type": "markdown",
      "metadata": {
        "id": "lNo7WReDK4HM"
      },
      "source": [
        "#Uploading Kaggle Json & Downloading Datasets"
      ]
    },
    {
      "cell_type": "code",
      "metadata": {
        "colab": {
          "resources": {
            "http://localhost:8080/nbextensions/google.colab/files.js": {
              "data": "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",
              "ok": true,
              "headers": [
                [
                  "content-type",
                  "application/javascript"
                ]
              ],
              "status": 200,
              "status_text": ""
            }
          },
          "base_uri": "https://localhost:8080/",
          "height": 89
        },
        "id": "04pHybGFPu0h",
        "outputId": "af43039e-2196-4b78-821c-d5b4b5be3a3d"
      },
      "source": [
        "from google.colab import files\n",
        "files.upload()"
      ],
      "execution_count": null,
      "outputs": [
        {
          "output_type": "display_data",
          "data": {
            "text/html": [
              "\n",
              "     <input type=\"file\" id=\"files-9eb08b8a-adb5-41f2-a802-eb8816b34bff\" name=\"files[]\" multiple disabled\n",
              "        style=\"border:none\" />\n",
              "     <output id=\"result-9eb08b8a-adb5-41f2-a802-eb8816b34bff\">\n",
              "      Upload widget is only available when the cell has been executed in the\n",
              "      current browser session. Please rerun this cell to enable.\n",
              "      </output>\n",
              "      <script src=\"/nbextensions/google.colab/files.js\"></script> "
            ],
            "text/plain": [
              "<IPython.core.display.HTML object>"
            ]
          },
          "metadata": {}
        },
        {
          "output_type": "stream",
          "text": [
            "Saving kaggle.json to kaggle.json\n"
          ],
          "name": "stdout"
        },
        {
          "output_type": "execute_result",
          "data": {
            "text/plain": [
              "{'kaggle.json': b'{\"username\":\"dasanik2001\",\"key\":\"821d40a45fb74fedc82df8c7d9682fd3\"}'}"
            ]
          },
          "metadata": {},
          "execution_count": 3
        }
      ]
    },
    {
      "cell_type": "code",
      "metadata": {
        "id": "5AYZdNR1PzFj"
      },
      "source": [
        "! mkdir ~/.kaggle\n",
        "!cp kaggle.json ~/.kaggle/\n",
        "! chmod 600 ~/.kaggle/kaggle.json\n"
      ],
      "execution_count": null,
      "outputs": []
    },
    {
      "cell_type": "code",
      "metadata": {
        "id": "bwEQY2wIP8Pu"
      },
      "source": [
        "! kaggle datasets download  sid321axn/covid-cxr-image-dataset-research\n",
        "!unzip covid-cxr-image-dataset-research.zip"
      ],
      "execution_count": null,
      "outputs": []
    },
    {
      "cell_type": "markdown",
      "metadata": {
        "id": "Jw5Zt5B-LSji"
      },
      "source": [
        "#Loading Datasets"
      ]
    },
    {
      "cell_type": "code",
      "metadata": {
        "id": "IgmIbSvRQiua"
      },
      "source": [
        "data=[]\n",
        "labels=[]\n",
        "Uninfected=os.listdir(\"/content/COVID_IEEE/normal\")\n",
        "for a in Uninfected:\n",
        "\t# extract the class label from the filename\n",
        "\t\n",
        "\n",
        "\t# load the image, swap color channels, and resize it to be a fixed\n",
        "\t# 224x224 pixels while ignoring aspect ratio\n",
        "\timage = cv2.imread(\"/content/COVID_IEEE/normal/\"+a)\n",
        "\tgray_image = cv2.cvtColor(image, cv2.COLOR_BGR2RGB)\n",
        "\timage = cv2.resize(gray_image, (224, 224))\n",
        "\n",
        "\t# update the data and labels lists, respectively\n",
        "\tdata.append(image)\n",
        "\tlabels.append(0)"
      ],
      "execution_count": null,
      "outputs": []
    },
    {
      "cell_type": "code",
      "metadata": {
        "id": "r1IASCjnRSGa"
      },
      "source": [
        "Covid=os.listdir(\"/content/COVID_IEEE/covid\")\n",
        "for b in Covid:\n",
        "\t# extract the class label from the filename\n",
        "\t\n",
        "\n",
        "\t# load the image, swap color channels, and resize it to be a fixed\n",
        "\t# 224x224 pixels while ignoring aspect ratio\n",
        "\timage = cv2.imread(\"/content/COVID_IEEE/covid/\"+b)\n",
        "\tgray_image = cv2.cvtColor(image, cv2.COLOR_BGR2RGB)\n",
        "\timage = cv2.resize(gray_image, (224, 224))\n",
        "\t# update the data and labels lists, respectively\n",
        "\tdata.append(image)\n",
        "\tlabels.append(1)"
      ],
      "execution_count": null,
      "outputs": []
    },
    {
      "cell_type": "markdown",
      "metadata": {
        "id": "IhB7YTdELcsg"
      },
      "source": [
        "#Resizing Data & Splitting Into Test and Train"
      ]
    },
    {
      "cell_type": "code",
      "metadata": {
        "id": "efFcdnIUWVLm"
      },
      "source": [
        "data = np.array(data)/255\n",
        "labels = np.array(labels)"
      ],
      "execution_count": null,
      "outputs": []
    },
    {
      "cell_type": "code",
      "metadata": {
        "colab": {
          "base_uri": "https://localhost:8080/"
        },
        "id": "702TorooAQBH",
        "outputId": "2fc0e7fd-b58d-4449-d0e7-04b7d2cc4ca6"
      },
      "source": [
        "labels.shape"
      ],
      "execution_count": null,
      "outputs": [
        {
          "output_type": "execute_result",
          "data": {
            "text/plain": [
              "(1204,)"
            ]
          },
          "metadata": {},
          "execution_count": 9
        }
      ]
    },
    {
      "cell_type": "code",
      "metadata": {
        "id": "Zwxkj0R6RsMj"
      },
      "source": [
        "from sklearn.model_selection import train_test_split\n",
        "\n",
        "\n",
        "# partition the data into training and testing splits using 80% of\n",
        "# the data for training and the remaining 20% for testing\n",
        "(trainX, testX, trainY, testY) = train_test_split(data, labels,\n",
        "\ttest_size=0.20,random_state=43 )"
      ],
      "execution_count": null,
      "outputs": []
    },
    {
      "cell_type": "code",
      "metadata": {
        "colab": {
          "base_uri": "https://localhost:8080/"
        },
        "id": "Z5Wo2NE_T8p4",
        "outputId": "6620201b-f822-4260-d542-3f9670806adb"
      },
      "source": [
        "trainX.shape"
      ],
      "execution_count": null,
      "outputs": [
        {
          "output_type": "execute_result",
          "data": {
            "text/plain": [
              "(963, 224, 224, 3)"
            ]
          },
          "metadata": {},
          "execution_count": 11
        }
      ]
    },
    {
      "cell_type": "markdown",
      "metadata": {
        "id": "iwniOzHGLtP8"
      },
      "source": [
        "#Building & Compiling Model "
      ]
    },
    {
      "cell_type": "code",
      "metadata": {
        "id": "swpmppKtTj9I"
      },
      "source": [
        "# from tensorflow.keras.applications import ResNet\n",
        "from tensorflow.keras.models import Model\n",
        "from tensorflow.keras.applications.inception_v3 import InceptionV3\n",
        "from tensorflow.keras.optimizers import RMSprop\n",
        "from tensorflow.keras.applications.vgg16 import VGG16\n",
        "\n",
        "from tensorflow.keras.applications.vgg19 import VGG19\n",
        "from tensorflow.keras.applications.resnet import ResNet101\n",
        "from tensorflow.keras.applications import Xception\n",
        "# from tensorflow.keras.applications.resnet50 import preprocess_input"
      ],
      "execution_count": null,
      "outputs": []
    },
    {
      "cell_type": "code",
      "metadata": {
        "id": "4807Iz0nTjNV",
        "colab": {
          "base_uri": "https://localhost:8080/"
        },
        "outputId": "4ec29778-c814-48d5-95ce-cb4fb41923a5"
      },
      "source": [
        "baseModel =InceptionV3(weights=\"imagenet\", include_top=False,input_tensor=Input(shape=(224, 224, 3)))\n",
        "x= Conv2D(64, kernel_size=(3, 3),activation='relu')(baseModel.output)\n",
        "x = Dropout(0.5)(x)\n",
        "\n",
        "x = MaxPooling2D(pool_size=(3,3))(x)\n",
        "x=(Dropout(0.25))(x)\n",
        "x = Dense(1024, activation='relu')(x)\n",
        "x = Flatten()(x)\n",
        "final_output = Dense(1, activation='sigmoid', name='final_output')(x)\n",
        "model_incp = Model(inputs=baseModel.input, outputs=final_output)\n",
        "model_incp.compile(optimizer=RMSprop(lr=0.0001),loss='binary_crossentropy', metrics = ['accuracy'])\n",
        "for layer in baseModel.layers:\n",
        "\tlayer.trainable = False"
      ],
      "execution_count": null,
      "outputs": [
        {
          "output_type": "stream",
          "text": [
            "Downloading data from https://storage.googleapis.com/tensorflow/keras-applications/inception_v3/inception_v3_weights_tf_dim_ordering_tf_kernels_notop.h5\n",
            "87916544/87910968 [==============================] - 1s 0us/step\n",
            "87924736/87910968 [==============================] - 1s 0us/step\n"
          ],
          "name": "stdout"
        },
        {
          "output_type": "stream",
          "text": [
            "/usr/local/lib/python3.7/dist-packages/keras/optimizer_v2/optimizer_v2.py:356: UserWarning: The `lr` argument is deprecated, use `learning_rate` instead.\n",
            "  \"The `lr` argument is deprecated, use `learning_rate` instead.\")\n"
          ],
          "name": "stderr"
        }
      ]
    },
    {
      "cell_type": "code",
      "metadata": {
        "colab": {
          "base_uri": "https://localhost:8080/"
        },
        "id": "zkbIRK7MNsyb",
        "outputId": "8bdbf75e-0c10-4242-fbab-dfd1785d07da"
      },
      "source": [
        "\n",
        "baseModel =VGG16(weights=\"imagenet\", include_top=False,input_tensor=Input(shape=(224, 224, 3)))\n",
        "x= Conv2D(64, kernel_size=(3, 3),activation='relu')(baseModel.output)\n",
        "x = Dropout(0.5)(x)\n",
        "\n",
        "x = MaxPooling2D(pool_size=(3,3))(x)\n",
        "x=(Dropout(0.25))(x)\n",
        "x = Dense(1024, activation='relu')(x)\n",
        "x = Flatten()(x)\n",
        "final_output = Dense(1, activation='sigmoid', name='final_output')(x)\n",
        "model_vgg16 = Model(inputs=baseModel.input, outputs=final_output)\n",
        "model_vgg16.compile(optimizer=RMSprop(lr=0.0001),loss='binary_crossentropy', metrics = ['accuracy'])\n",
        "for layer in baseModel.layers:\n",
        "\tlayer.trainable = False"
      ],
      "execution_count": null,
      "outputs": [
        {
          "output_type": "stream",
          "text": [
            "Downloading data from https://storage.googleapis.com/tensorflow/keras-applications/vgg16/vgg16_weights_tf_dim_ordering_tf_kernels_notop.h5\n",
            "58892288/58889256 [==============================] - 1s 0us/step\n",
            "58900480/58889256 [==============================] - 1s 0us/step\n"
          ],
          "name": "stdout"
        },
        {
          "output_type": "stream",
          "text": [
            "/usr/local/lib/python3.7/dist-packages/keras/optimizer_v2/optimizer_v2.py:356: UserWarning: The `lr` argument is deprecated, use `learning_rate` instead.\n",
            "  \"The `lr` argument is deprecated, use `learning_rate` instead.\")\n"
          ],
          "name": "stderr"
        }
      ]
    },
    {
      "cell_type": "code",
      "metadata": {
        "colab": {
          "base_uri": "https://localhost:8080/"
        },
        "id": "TOfmu4qfNv9D",
        "outputId": "5760684b-b7ea-432f-960a-f94934d07850"
      },
      "source": [
        "baseModel =VGG19(weights=\"imagenet\", include_top=False,input_tensor=Input(shape=(224, 224, 3)))\n",
        "x= Conv2D(64, kernel_size=(3, 3),activation='relu')(baseModel.output)\n",
        "x = Dropout(0.5)(x)\n",
        "\n",
        "x = MaxPooling2D(pool_size=(3,3))(x)\n",
        "x=(Dropout(0.25))(x)\n",
        "x = Dense(1024, activation='relu')(x)\n",
        "x = Flatten()(x)\n",
        "final_output = Dense(1, activation='sigmoid', name='final_output')(x)\n",
        "model_vgg19 = Model(inputs=baseModel.input, outputs=final_output)\n",
        "model_vgg19.compile(optimizer=RMSprop(lr=0.0001),loss='binary_crossentropy', metrics = ['accuracy'])\n",
        "for layer in baseModel.layers:\n",
        "\tlayer.trainable = False"
      ],
      "execution_count": null,
      "outputs": [
        {
          "output_type": "stream",
          "text": [
            "Downloading data from https://storage.googleapis.com/tensorflow/keras-applications/vgg19/vgg19_weights_tf_dim_ordering_tf_kernels_notop.h5\n",
            "80142336/80134624 [==============================] - 1s 0us/step\n",
            "80150528/80134624 [==============================] - 1s 0us/step\n"
          ],
          "name": "stdout"
        },
        {
          "output_type": "stream",
          "text": [
            "/usr/local/lib/python3.7/dist-packages/keras/optimizer_v2/optimizer_v2.py:356: UserWarning: The `lr` argument is deprecated, use `learning_rate` instead.\n",
            "  \"The `lr` argument is deprecated, use `learning_rate` instead.\")\n"
          ],
          "name": "stderr"
        }
      ]
    },
    {
      "cell_type": "code",
      "metadata": {
        "colab": {
          "base_uri": "https://localhost:8080/"
        },
        "id": "d0QqHYFGNwn3",
        "outputId": "9e2c0ccc-c7ca-4058-a44e-f06fc7617bdc"
      },
      "source": [
        "baseModel =Xception(weights=\"imagenet\", include_top=False,input_tensor=Input(shape=(224, 224, 3)))\n",
        "x= Conv2D(64, kernel_size=(3, 3),activation='relu')(baseModel.output)\n",
        "x = Dropout(0.5)(x)\n",
        "\n",
        "x = MaxPooling2D(pool_size=(3,3))(x)\n",
        "x=(Dropout(0.25))(x)\n",
        "x = Dense(1024, activation='relu')(x)\n",
        "x = Flatten()(x)\n",
        "final_output = Dense(1, activation='sigmoid', name='final_output')(x)\n",
        "model_xcp = Model(inputs=baseModel.input, outputs=final_output)\n",
        "model_xcp.compile(optimizer=RMSprop(lr=0.0001),loss='binary_crossentropy', metrics = ['accuracy'])\n",
        "for layer in baseModel.layers:\n",
        "\tlayer.trainable = False"
      ],
      "execution_count": null,
      "outputs": [
        {
          "output_type": "stream",
          "text": [
            "/usr/local/lib/python3.7/dist-packages/keras/optimizer_v2/optimizer_v2.py:356: UserWarning: The `lr` argument is deprecated, use `learning_rate` instead.\n",
            "  \"The `lr` argument is deprecated, use `learning_rate` instead.\")\n"
          ],
          "name": "stderr"
        }
      ]
    },
    {
      "cell_type": "code",
      "metadata": {
        "id": "Mq1iHQ64D_7g"
      },
      "source": [
        "for layer in baseModel.layers:\n",
        "\tlayer.trainable = False"
      ],
      "execution_count": null,
      "outputs": []
    },
    {
      "cell_type": "code",
      "metadata": {
        "id": "QSRsPQYeTjuX"
      },
      "source": [
        "INIT_LR = 1e-3\n",
        "EPOCHS = 25\n",
        "BS = 8"
      ],
      "execution_count": null,
      "outputs": []
    },
    {
      "cell_type": "code",
      "metadata": {
        "id": "u7Mk9l8fTtkr"
      },
      "source": [
        "from tensorflow.keras.preprocessing.image import ImageDataGenerator\n",
        "\n",
        "train_aug = ImageDataGenerator(\n",
        "    rotation_range=20,\n",
        "    width_shift_range=0.2,\n",
        "    height_shift_range=0.2,\n",
        "    horizontal_flip=True\n",
        ")"
      ],
      "execution_count": null,
      "outputs": []
    },
    {
      "cell_type": "markdown",
      "metadata": {
        "id": "O37cBCt6MCUT"
      },
      "source": [
        "#Training the model"
      ]
    },
    {
      "cell_type": "code",
      "metadata": {
        "colab": {
          "base_uri": "https://localhost:8080/"
        },
        "id": "-Z6CsFhgTrwa",
        "outputId": "ca0d8217-76c9-49ed-a5ef-8c7003ce78fa"
      },
      "source": [
        "\n",
        "H_incp=model_incp.fit(train_aug.flow(trainX, trainY, batch_size=32),\n",
        "                    validation_data=(trainX,trainY),\n",
        "                    validation_steps=len(trainX) / 32,\n",
        "                    steps_per_epoch=len(trainX) / 32,\n",
        "                    epochs=20)\n",
        " \n"
      ],
      "execution_count": null,
      "outputs": [
        {
          "output_type": "stream",
          "text": [
            "Epoch 1/20\n",
            "30/30 [==============================] - 46s 921ms/step - loss: 0.2645 - accuracy: 0.9024 - val_loss: 0.2354 - val_accuracy: 0.9055\n",
            "Epoch 2/20\n",
            "30/30 [==============================] - 24s 780ms/step - loss: 0.0677 - accuracy: 0.9720 - val_loss: 0.2108 - val_accuracy: 0.9283\n",
            "Epoch 3/20\n",
            "30/30 [==============================] - 24s 785ms/step - loss: 0.0322 - accuracy: 0.9896 - val_loss: 0.2544 - val_accuracy: 0.9148\n",
            "Epoch 4/20\n",
            "30/30 [==============================] - 24s 781ms/step - loss: 0.0483 - accuracy: 0.9844 - val_loss: 0.1407 - val_accuracy: 0.9491\n",
            "Epoch 5/20\n",
            "30/30 [==============================] - 24s 781ms/step - loss: 0.0837 - accuracy: 0.9834 - val_loss: 0.1305 - val_accuracy: 0.9439\n",
            "Epoch 6/20\n",
            "30/30 [==============================] - 23s 798ms/step - loss: 0.0169 - accuracy: 0.9948 - val_loss: 0.0355 - val_accuracy: 0.9855\n",
            "Epoch 7/20\n",
            "30/30 [==============================] - 24s 786ms/step - loss: 0.0269 - accuracy: 0.9917 - val_loss: 0.2006 - val_accuracy: 0.9346\n",
            "Epoch 8/20\n",
            "30/30 [==============================] - 24s 785ms/step - loss: 0.0216 - accuracy: 0.9958 - val_loss: 0.0175 - val_accuracy: 0.9917\n",
            "Epoch 9/20\n",
            "30/30 [==============================] - 24s 785ms/step - loss: 0.0234 - accuracy: 0.9927 - val_loss: 0.0244 - val_accuracy: 0.9927\n",
            "Epoch 10/20\n",
            "30/30 [==============================] - 24s 784ms/step - loss: 0.0288 - accuracy: 0.9927 - val_loss: 0.0394 - val_accuracy: 0.9875\n",
            "Epoch 11/20\n",
            "30/30 [==============================] - 24s 780ms/step - loss: 0.0165 - accuracy: 0.9969 - val_loss: 1.3553 - val_accuracy: 0.6262\n",
            "Epoch 12/20\n",
            "30/30 [==============================] - 24s 783ms/step - loss: 0.0490 - accuracy: 0.9855 - val_loss: 0.2438 - val_accuracy: 0.9294\n",
            "Epoch 13/20\n",
            "30/30 [==============================] - 24s 782ms/step - loss: 0.0152 - accuracy: 0.9969 - val_loss: 0.0428 - val_accuracy: 0.9865\n",
            "Epoch 14/20\n",
            "30/30 [==============================] - 24s 785ms/step - loss: 0.0188 - accuracy: 0.9979 - val_loss: 0.0354 - val_accuracy: 0.9896\n",
            "Epoch 15/20\n",
            "30/30 [==============================] - 24s 782ms/step - loss: 0.0041 - accuracy: 0.9990 - val_loss: 0.0052 - val_accuracy: 0.9979\n",
            "Epoch 16/20\n",
            "30/30 [==============================] - 24s 785ms/step - loss: 0.0070 - accuracy: 0.9990 - val_loss: 0.1221 - val_accuracy: 0.9605\n",
            "Epoch 17/20\n",
            "30/30 [==============================] - 24s 785ms/step - loss: 0.0313 - accuracy: 0.9938 - val_loss: 0.0037 - val_accuracy: 0.9990\n",
            "Epoch 18/20\n",
            "30/30 [==============================] - 24s 781ms/step - loss: 0.0335 - accuracy: 0.9917 - val_loss: 0.0036 - val_accuracy: 0.9979\n",
            "Epoch 19/20\n",
            "30/30 [==============================] - 24s 784ms/step - loss: 0.0099 - accuracy: 0.9958 - val_loss: 0.0056 - val_accuracy: 0.9958\n",
            "Epoch 20/20\n",
            "30/30 [==============================] - 24s 786ms/step - loss: 0.0121 - accuracy: 0.9948 - val_loss: 0.0152 - val_accuracy: 0.9948\n"
          ],
          "name": "stdout"
        }
      ]
    },
    {
      "cell_type": "code",
      "metadata": {
        "id": "TWUQ30WGcEa0",
        "colab": {
          "base_uri": "https://localhost:8080/"
        },
        "outputId": "a00e4090-5130-4f32-9a2b-3740d86095ac"
      },
      "source": [
        "\n",
        "H_vgg16=model_vgg16.fit(train_aug.flow(trainX, trainY, batch_size=32),\n",
        "                    validation_data=(trainX,trainY),\n",
        "                    validation_steps=len(trainX) / 32,\n",
        "                    steps_per_epoch=len(trainX) / 32,\n",
        "                    epochs=20)\n",
        " \n"
      ],
      "execution_count": null,
      "outputs": [
        {
          "output_type": "stream",
          "text": [
            "Epoch 1/20\n",
            "30/30 [==============================] - 51s 1s/step - loss: 0.7018 - accuracy: 0.5441 - val_loss: 0.6931 - val_accuracy: 0.5535\n",
            "Epoch 2/20\n",
            "30/30 [==============================] - 31s 1s/step - loss: 0.6001 - accuracy: 0.7259 - val_loss: 0.1934 - val_accuracy: 0.9688\n",
            "Epoch 3/20\n",
            "30/30 [==============================] - 31s 1s/step - loss: 0.2628 - accuracy: 0.9169 - val_loss: 0.1219 - val_accuracy: 0.9761\n",
            "Epoch 4/20\n",
            "30/30 [==============================] - 31s 1s/step - loss: 0.1664 - accuracy: 0.9502 - val_loss: 0.2148 - val_accuracy: 0.9252\n",
            "Epoch 5/20\n",
            "30/30 [==============================] - 31s 1s/step - loss: 0.2667 - accuracy: 0.9367 - val_loss: 0.0990 - val_accuracy: 0.9855\n",
            "Epoch 6/20\n",
            "30/30 [==============================] - 31s 1s/step - loss: 0.1555 - accuracy: 0.9553 - val_loss: 0.1382 - val_accuracy: 0.9564\n",
            "Epoch 7/20\n",
            "30/30 [==============================] - 31s 1s/step - loss: 0.1258 - accuracy: 0.9585 - val_loss: 0.0583 - val_accuracy: 0.9803\n",
            "Epoch 8/20\n",
            "30/30 [==============================] - 31s 1s/step - loss: 0.1601 - accuracy: 0.9533 - val_loss: 0.0903 - val_accuracy: 0.9720\n",
            "Epoch 9/20\n",
            "30/30 [==============================] - 31s 1s/step - loss: 0.1275 - accuracy: 0.9626 - val_loss: 0.0619 - val_accuracy: 0.9813\n",
            "Epoch 10/20\n",
            "30/30 [==============================] - 31s 1s/step - loss: 0.1265 - accuracy: 0.9605 - val_loss: 0.0676 - val_accuracy: 0.9834\n",
            "Epoch 11/20\n",
            "30/30 [==============================] - 31s 1s/step - loss: 0.1772 - accuracy: 0.9533 - val_loss: 0.0523 - val_accuracy: 0.9865\n",
            "Epoch 12/20\n",
            "30/30 [==============================] - 31s 1s/step - loss: 0.1219 - accuracy: 0.9657 - val_loss: 0.0825 - val_accuracy: 0.9875\n",
            "Epoch 13/20\n",
            "30/30 [==============================] - 31s 1s/step - loss: 0.1228 - accuracy: 0.9647 - val_loss: 0.0625 - val_accuracy: 0.9896\n",
            "Epoch 14/20\n",
            "30/30 [==============================] - 31s 1s/step - loss: 1.7170 - accuracy: 0.9543 - val_loss: 0.3122 - val_accuracy: 0.8712\n",
            "Epoch 15/20\n",
            "30/30 [==============================] - 31s 1s/step - loss: 0.0870 - accuracy: 0.9688 - val_loss: 0.0604 - val_accuracy: 0.9865\n",
            "Epoch 16/20\n",
            "30/30 [==============================] - 31s 1s/step - loss: 0.0679 - accuracy: 0.9782 - val_loss: 0.0482 - val_accuracy: 0.9844\n",
            "Epoch 17/20\n",
            "30/30 [==============================] - 31s 1s/step - loss: 0.0883 - accuracy: 0.9792 - val_loss: 0.0604 - val_accuracy: 0.9896\n",
            "Epoch 18/20\n",
            "30/30 [==============================] - 31s 1s/step - loss: 0.1533 - accuracy: 0.9647 - val_loss: 0.0530 - val_accuracy: 0.9834\n",
            "Epoch 19/20\n",
            "30/30 [==============================] - 31s 1s/step - loss: 0.1129 - accuracy: 0.9709 - val_loss: 0.0469 - val_accuracy: 0.9917\n",
            "Epoch 20/20\n",
            "30/30 [==============================] - 31s 1s/step - loss: 0.1003 - accuracy: 0.9699 - val_loss: 0.0767 - val_accuracy: 0.9740\n"
          ],
          "name": "stdout"
        }
      ]
    },
    {
      "cell_type": "code",
      "metadata": {
        "colab": {
          "base_uri": "https://localhost:8080/"
        },
        "id": "To9xrO4YOTxo",
        "outputId": "7055b5bf-51a2-4584-e4f3-02bc778df2f0"
      },
      "source": [
        "\n",
        "H_vgg19=model_vgg19.fit(train_aug.flow(trainX, trainY, batch_size=32),\n",
        "                    validation_data=(trainX,trainY),\n",
        "                    validation_steps=len(trainX) / 32,\n",
        "                    steps_per_epoch=len(trainX) / 32,\n",
        "                    epochs=20)\n",
        " \n"
      ],
      "execution_count": null,
      "outputs": [
        {
          "output_type": "stream",
          "text": [
            "Epoch 1/20\n",
            "30/30 [==============================] - 41s 1s/step - loss: 0.7379 - accuracy: 0.6147 - val_loss: 0.5784 - val_accuracy: 0.8993\n",
            "Epoch 2/20\n",
            "30/30 [==============================] - 37s 1s/step - loss: 0.4065 - accuracy: 0.8245 - val_loss: 0.0897 - val_accuracy: 0.9657\n",
            "Epoch 3/20\n",
            "30/30 [==============================] - 37s 1s/step - loss: 0.3313 - accuracy: 0.8764 - val_loss: 0.2536 - val_accuracy: 0.9522\n",
            "Epoch 4/20\n",
            "30/30 [==============================] - 37s 1s/step - loss: 0.2378 - accuracy: 0.9138 - val_loss: 0.3066 - val_accuracy: 0.9543\n",
            "Epoch 5/20\n",
            "30/30 [==============================] - 37s 1s/step - loss: 0.2148 - accuracy: 0.9377 - val_loss: 0.0722 - val_accuracy: 0.9813\n",
            "Epoch 6/20\n",
            "30/30 [==============================] - 37s 1s/step - loss: 0.1934 - accuracy: 0.9304 - val_loss: 0.1390 - val_accuracy: 0.9678\n",
            "Epoch 7/20\n",
            "30/30 [==============================] - 36s 1s/step - loss: 0.1518 - accuracy: 0.9522 - val_loss: 0.2555 - val_accuracy: 0.9387\n",
            "Epoch 8/20\n",
            "30/30 [==============================] - 36s 1s/step - loss: 0.2454 - accuracy: 0.9283 - val_loss: 0.2060 - val_accuracy: 0.9159\n",
            "Epoch 9/20\n",
            "30/30 [==============================] - 37s 1s/step - loss: 0.1507 - accuracy: 0.9491 - val_loss: 0.0520 - val_accuracy: 0.9886\n",
            "Epoch 10/20\n",
            "30/30 [==============================] - 37s 1s/step - loss: 0.1063 - accuracy: 0.9699 - val_loss: 0.0919 - val_accuracy: 0.9657\n",
            "Epoch 11/20\n",
            "30/30 [==============================] - 37s 1s/step - loss: 0.1189 - accuracy: 0.9574 - val_loss: 0.0591 - val_accuracy: 0.9855\n",
            "Epoch 12/20\n",
            "30/30 [==============================] - 37s 1s/step - loss: 0.0904 - accuracy: 0.9740 - val_loss: 0.0490 - val_accuracy: 0.9886\n",
            "Epoch 13/20\n",
            "30/30 [==============================] - 36s 1s/step - loss: 0.2094 - accuracy: 0.9439 - val_loss: 0.0590 - val_accuracy: 0.9782\n",
            "Epoch 14/20\n",
            "30/30 [==============================] - 37s 1s/step - loss: 0.1487 - accuracy: 0.9585 - val_loss: 0.1035 - val_accuracy: 0.9688\n",
            "Epoch 15/20\n",
            "30/30 [==============================] - 36s 1s/step - loss: 0.0840 - accuracy: 0.9751 - val_loss: 0.0384 - val_accuracy: 0.9907\n",
            "Epoch 16/20\n",
            "30/30 [==============================] - 37s 1s/step - loss: 0.1031 - accuracy: 0.9668 - val_loss: 0.0415 - val_accuracy: 0.9886\n",
            "Epoch 17/20\n",
            "30/30 [==============================] - 36s 1s/step - loss: 0.1019 - accuracy: 0.9657 - val_loss: 0.0279 - val_accuracy: 0.9907\n",
            "Epoch 18/20\n",
            "30/30 [==============================] - 36s 1s/step - loss: 0.0865 - accuracy: 0.9709 - val_loss: 0.0501 - val_accuracy: 0.9823\n",
            "Epoch 19/20\n",
            "30/30 [==============================] - 36s 1s/step - loss: 0.2598 - accuracy: 0.9512 - val_loss: 0.0791 - val_accuracy: 0.9896\n",
            "Epoch 20/20\n",
            "30/30 [==============================] - 36s 1s/step - loss: 0.0856 - accuracy: 0.9813 - val_loss: 0.0412 - val_accuracy: 0.9875\n"
          ],
          "name": "stdout"
        }
      ]
    },
    {
      "cell_type": "code",
      "metadata": {
        "colab": {
          "base_uri": "https://localhost:8080/"
        },
        "id": "Fov-H7ibOUN4",
        "outputId": "b3523c23-0c59-43f9-d2c8-2d105964a22f"
      },
      "source": [
        "\n",
        "H_xcp=model_xcp.fit(train_aug.flow(trainX, trainY, batch_size=32),\n",
        "                    validation_data=(trainX,trainY),\n",
        "                    validation_steps=len(trainX) / 32,\n",
        "                    steps_per_epoch=len(trainX) / 32,\n",
        "                    epochs=20)\n",
        " \n"
      ],
      "execution_count": null,
      "outputs": [
        {
          "output_type": "stream",
          "text": [
            "Epoch 1/20\n",
            "30/30 [==============================] - 62s 2s/step - loss: 0.2591 - accuracy: 0.8941 - val_loss: 0.2251 - val_accuracy: 0.8982\n",
            "Epoch 2/20\n",
            "30/30 [==============================] - 47s 2s/step - loss: 0.0607 - accuracy: 0.9792 - val_loss: 0.2173 - val_accuracy: 0.9117\n",
            "Epoch 3/20\n",
            "30/30 [==============================] - 47s 2s/step - loss: 0.0424 - accuracy: 0.9907 - val_loss: 0.2092 - val_accuracy: 0.9180\n",
            "Epoch 4/20\n",
            "30/30 [==============================] - 47s 2s/step - loss: 0.0286 - accuracy: 0.9948 - val_loss: 0.0206 - val_accuracy: 0.9917\n",
            "Epoch 5/20\n",
            "30/30 [==============================] - 47s 2s/step - loss: 0.0214 - accuracy: 0.9938 - val_loss: 0.0517 - val_accuracy: 0.9813\n",
            "Epoch 6/20\n",
            "30/30 [==============================] - 47s 2s/step - loss: 0.0368 - accuracy: 0.9886 - val_loss: 0.0137 - val_accuracy: 0.9958\n",
            "Epoch 7/20\n",
            "30/30 [==============================] - 47s 2s/step - loss: 0.0082 - accuracy: 0.9990 - val_loss: 0.0110 - val_accuracy: 0.9969\n",
            "Epoch 8/20\n",
            "30/30 [==============================] - 47s 2s/step - loss: 0.0186 - accuracy: 0.9948 - val_loss: 0.0274 - val_accuracy: 0.9917\n",
            "Epoch 9/20\n",
            "30/30 [==============================] - 47s 2s/step - loss: 0.0062 - accuracy: 0.9979 - val_loss: 0.0153 - val_accuracy: 0.9948\n",
            "Epoch 10/20\n",
            "30/30 [==============================] - 47s 2s/step - loss: 0.0193 - accuracy: 0.9958 - val_loss: 0.0149 - val_accuracy: 0.9948\n",
            "Epoch 11/20\n",
            "30/30 [==============================] - 47s 2s/step - loss: 0.0081 - accuracy: 0.9969 - val_loss: 0.0147 - val_accuracy: 0.9969\n",
            "Epoch 12/20\n",
            "30/30 [==============================] - 47s 2s/step - loss: 0.0614 - accuracy: 0.9907 - val_loss: 0.0095 - val_accuracy: 0.9979\n",
            "Epoch 13/20\n",
            "30/30 [==============================] - 47s 2s/step - loss: 0.0072 - accuracy: 0.9969 - val_loss: 0.0116 - val_accuracy: 0.9979\n",
            "Epoch 14/20\n",
            "30/30 [==============================] - 48s 2s/step - loss: 0.0091 - accuracy: 0.9979 - val_loss: 0.0143 - val_accuracy: 0.9979\n",
            "Epoch 15/20\n",
            "30/30 [==============================] - 48s 2s/step - loss: 0.0620 - accuracy: 0.9948 - val_loss: 0.0101 - val_accuracy: 0.9969\n",
            "Epoch 16/20\n",
            "30/30 [==============================] - 48s 2s/step - loss: 0.0036 - accuracy: 0.9990 - val_loss: 0.0073 - val_accuracy: 0.9969\n",
            "Epoch 17/20\n",
            "30/30 [==============================] - 48s 2s/step - loss: 0.0014 - accuracy: 1.0000 - val_loss: 0.0063 - val_accuracy: 0.9979\n",
            "Epoch 18/20\n",
            "30/30 [==============================] - 48s 2s/step - loss: 0.0281 - accuracy: 0.9958 - val_loss: 0.0217 - val_accuracy: 0.9927\n",
            "Epoch 19/20\n",
            "30/30 [==============================] - 48s 2s/step - loss: 0.0103 - accuracy: 0.9979 - val_loss: 0.0027 - val_accuracy: 0.9990\n",
            "Epoch 20/20\n",
            "30/30 [==============================] - 48s 2s/step - loss: 0.0100 - accuracy: 0.9958 - val_loss: 0.0025 - val_accuracy: 0.9990\n"
          ],
          "name": "stdout"
        }
      ]
    },
    {
      "cell_type": "markdown",
      "metadata": {
        "id": "4Wbs98FGMGzm"
      },
      "source": [
        "#Saving Model to drive"
      ]
    },
    {
      "cell_type": "code",
      "metadata": {
        "id": "JvBhz5J3YP_4"
      },
      "source": [
        "# serialize model to JSON\n",
        "model_json = model.to_json()\n",
        "with open(\"final_model.json\", \"w\") as json_file:\n",
        "    json_file.write(model_json)\n",
        "# serialize weights to HDF5\n",
        "model.save_weights(\"final_model.h5\")"
      ],
      "execution_count": null,
      "outputs": []
    },
    {
      "cell_type": "markdown",
      "metadata": {
        "id": "Gs8XmqvLMKfO"
      },
      "source": [
        "#Model Summary"
      ]
    },
    {
      "cell_type": "code",
      "metadata": {
        "id": "1MnFMxwFpFu_"
      },
      "source": [
        "model.summary()"
      ],
      "execution_count": null,
      "outputs": []
    },
    {
      "cell_type": "code",
      "metadata": {
        "id": "o8IGR7hzjiTs"
      },
      "source": [
        ""
      ],
      "execution_count": null,
      "outputs": []
    },
    {
      "cell_type": "markdown",
      "metadata": {
        "id": "4Pdxf9tJQKl5"
      },
      "source": [
        "#Testing Accuracy"
      ]
    },
    {
      "cell_type": "code",
      "metadata": {
        "id": "jACKT8cUpsXQ"
      },
      "source": [
        "y_predict = model.predict(testX)"
      ],
      "execution_count": null,
      "outputs": []
    },
    {
      "cell_type": "code",
      "metadata": {
        "id": "MoB--5agk787"
      },
      "source": [
        "y_predict"
      ],
      "execution_count": null,
      "outputs": []
    },
    {
      "cell_type": "code",
      "metadata": {
        "id": "w5xQxfkMttYt"
      },
      "source": [
        "import matplotlib.pyplot as plt\n",
        "import seaborn as sns\n",
        "from sklearn.metrics import roc_auc_score\n",
        "from sklearn.metrics import classification_report\n",
        "from sklearn.metrics import confusion_matrix"
      ],
      "execution_count": null,
      "outputs": []
    },
    {
      "cell_type": "code",
      "metadata": {
        "colab": {
          "base_uri": "https://localhost:8080/",
          "height": 295
        },
        "id": "v_Oiw8z0jpt3",
        "outputId": "dae46229-2143-4b15-d138-ccb24794c9f5"
      },
      "source": [
        "\n",
        "from sklearn.metrics import confusion_matrix\n",
        "import matplotlib.pyplot as plt\n",
        "import seaborn as sns\n",
        "cm = confusion_matrix(testY, y_labels_xcp)\n",
        "\n",
        "plt.figure(figsize=(5,4))\n",
        "sns.heatmap(cm,cmap='plasma',annot=True)\n",
        "plt.title('Confusion Matrix(Xception)')\n",
        "plt.ylabel('Actual Values')\n",
        "plt.xlabel('Predicted Values')\n",
        "plt.show()"
      ],
      "execution_count": null,
      "outputs": [
        {
          "output_type": "display_data",
          "data": {
            "image/png": "[encoded data removed]",
            "text/plain": [
              "<Figure size 360x288 with 2 Axes>"
            ]
          },
          "metadata": {
            "needs_background": "light"
          }
        }
      ]
    },
    {
      "cell_type": "code",
      "metadata": {
        "colab": {
          "base_uri": "https://localhost:8080/"
        },
        "id": "l9C0c0iVPDBF",
        "outputId": "8e22a443-9bc1-4109-ab3a-5f0e0c92e059"
      },
      "source": [
        "test_eval = model.evaluate(testX, testY, verbose=1)\n"
      ],
      "execution_count": null,
      "outputs": [
        {
          "output_type": "stream",
          "text": [
            "8/8 [==============================] - 2s 206ms/step - loss: 1.0898 - accuracy: 0.5145\n"
          ],
          "name": "stdout"
        }
      ]
    },
    {
      "cell_type": "code",
      "metadata": {
        "colab": {
          "base_uri": "https://localhost:8080/"
        },
        "id": "cyxxzkzgQAtt",
        "outputId": "3674841f-60da-4ebe-9672-8941a86d9175"
      },
      "source": [
        "print('Test loss:', test_eval[0])\n",
        "print('Test accuracy:', test_eval[1])\n"
      ],
      "execution_count": null,
      "outputs": [
        {
          "output_type": "stream",
          "text": [
            "Test loss: 1.089847445487976\n",
            "Test accuracy: 0.5145228505134583\n"
          ],
          "name": "stdout"
        }
      ]
    },
    {
      "cell_type": "code",
      "metadata": {
        "colab": {
          "base_uri": "https://localhost:8080/",
          "height": 295
        },
        "id": "cif1wvwAKlOO",
        "outputId": "364d0f53-37aa-4212-bb28-274c947fee7e"
      },
      "source": [
        "from sklearn.metrics import roc_curve\n",
        "y_predict_incp = model_incp.predict(testX)\n",
        "y_labels_incp= [1 if y>=0.5 else 0 for y in y_predict_incp]\n",
        "y_predict_vgg16 = model_vgg16.predict(testX)\n",
        "y_labels_vgg16= [1 if y>=0.5 else 0 for y in y_predict_vgg16]\n",
        "y_predict_vgg19 = model_vgg19.predict(testX)\n",
        "y_labels_vgg19= [1 if y>=0.5 else 0 for y in y_predict_vgg19]\n",
        "y_predict_xcp = model_xcp.predict(testX)\n",
        "y_labels_xcp= [1 if y>=0.5 else 0 for y in y_predict_xcp]\n",
        "fpr1, tpr1, thresholds1 = roc_curve(testY,y_labels_incp)\n",
        "fpr2, tpr2, thresholds2 = roc_curve(testY,y_labels_vgg16)\n",
        "fpr3, tpr3, thresholds3 = roc_curve(testY,y_labels_vgg19)\n",
        "fpr4, tpr4, thresholds4 = roc_curve(testY,y_labels_xcp)\n",
        "\n",
        "\n",
        "plt.plot(fpr1, tpr1, 'g', label='InceptionV3')\n",
        "plt.plot(fpr2, tpr2, 'b', label='VGG16')\n",
        "plt.plot(fpr3, tpr3, 'r', label='VGG19')\n",
        "plt.plot(fpr4, tpr4, 'y', label='Xception')\n",
        "plt.title('TPR VS FPR')\n",
        "plt.xlabel('False Positive Rate')\n",
        "plt.ylabel('True Positive Rate')\n",
        "plt.legend()\n",
        "plt.show()\n"
      ],
      "execution_count": null,
      "outputs": [
        {
          "output_type": "display_data",
          "data": {
            "image/png": "[encoded data removed]",
            "text/plain": [
              "<Figure size 432x288 with 1 Axes>"
            ]
          },
          "metadata": {
            "needs_background": "light"
          }
        }
      ]
    },
    {
      "cell_type": "code",
      "metadata": {
        "id": "e3ttTGo5K24B"
      },
      "source": [
        ""
      ],
      "execution_count": null,
      "outputs": []
    },
    {
      "cell_type": "code",
      "metadata": {
        "colab": {
          "base_uri": "https://localhost:8080/",
          "height": 295
        },
        "id": "MGh4vW-wJBB8",
        "outputId": "22fd002c-f3b8-46b2-c0b5-8d38811a3209"
      },
      "source": [
        "loss_incp = H_incp.history['loss']\n",
        "loss_vgg16= H_vgg16.history['loss']\n",
        "loss_vgg19= H_vgg19.history['loss']\n",
        "loss_xcp= H_xcp.history['loss']\n",
        "epochs = range(1,21)\n",
        "plt.plot(epochs, loss_incp, 'g', label='InceptionV3')\n",
        "plt.plot(epochs, loss_vgg16, 'b', label='VGG16')\n",
        "plt.plot(epochs, loss_vgg19, 'r', label='VGG19')\n",
        "plt.plot(epochs, loss_xcp, 'y', label='Xception')\n",
        "plt.title('Loss Curve of DNNs')\n",
        "plt.xlabel('Epochs')\n",
        "plt.ylabel('Loss')\n",
        "plt.legend()\n",
        "plt.show()\n",
        "\n"
      ],
      "execution_count": null,
      "outputs": [
        {
          "output_type": "display_data",
          "data": {
            "image/png": "[encoded data removed]",
            "text/plain": [
              "<Figure size 432x288 with 1 Axes>"
            ]
          },
          "metadata": {
            "needs_background": "light"
          }
        }
      ]
    },
    {
      "cell_type": "code",
      "metadata": {
        "colab": {
          "base_uri": "https://localhost:8080/",
          "height": 295
        },
        "id": "-5zjZGulOsmj",
        "outputId": "082cd74d-28d6-47ba-b3fd-da59e6b55a7f"
      },
      "source": [
        "acc_incp = H_incp.history['accuracy']\n",
        "acc_vgg16= H_vgg16.history['accuracy']\n",
        "acc_vgg19= H_vgg19.history['accuracy']\n",
        "acc_xcp= H_xcp.history['accuracy']\n",
        "\n",
        "epochs = range(1,21)\n",
        "plt.plot(epochs, acc_incp, 'g', label='InceptionV3')\n",
        "plt.plot(epochs, acc_vgg16, 'b', label='VGG16')\n",
        "plt.plot(epochs, acc_vgg19, 'r', label='VGG19')\n",
        "plt.plot(epochs, acc_xcp, 'y', label='Xception')\n",
        "\n",
        "plt.title('Training Accuracy Curve of DNNs')\n",
        "plt.xlabel('Epochs')\n",
        "plt.ylabel('Accuracy')\n",
        "plt.legend()\n",
        "plt.show()\n",
        "\n"
      ],
      "execution_count": null,
      "outputs": [
        {
          "output_type": "display_data",
          "data": {
            "image/png": "[encoded data removed]",
            "text/plain": [
              "<Figure size 432x288 with 1 Axes>"
            ]
          },
          "metadata": {
            "needs_background": "light"
          }
        }
      ]
    },
    {
      "cell_type": "code",
      "metadata": {
        "id": "9u8m2OfcYMth"
      },
      "source": [
        "cm1 = confusion_matrix(testY, y_labels_incp)\n",
        "cm2 = confusion_matrix(testY, y_labels_vgg16)\n",
        "cm3 = confusion_matrix(testY, y_labels_vgg19)\n",
        "cm4 = confusion_matrix(testY, y_labels_xcp)\n",
        "\n",
        "\n",
        "\n"
      ],
      "execution_count": null,
      "outputs": []
    },
    {
      "cell_type": "code",
      "metadata": {
        "colab": {
          "base_uri": "https://localhost:8080/",
          "height": 1000
        },
        "id": "O2N0pQakYpJF",
        "outputId": "a86aef0d-a7fd-4086-8120-0849e68f06fc"
      },
      "source": [
        "plt.figure(figsize=(5,4))\n",
        "sns.heatmap(cm1,cmap='plasma',annot=True)\n",
        "plt.title('Confusion Matrix(InceptionV3)')\n",
        "plt.ylabel('Actal Values')\n",
        "plt.xlabel('Predicted Values')\n",
        "plt.show()\n",
        "plt.figure(figsize=(5,4))\n",
        "sns.heatmap(cm2,cmap='plasma',annot=True)\n",
        "plt.title('Confusion Matrix(VGG16)')\n",
        "plt.ylabel('Actal Values')\n",
        "plt.xlabel('Predicted Values')\n",
        "plt.show()\n",
        "plt.figure(figsize=(5,4))\n",
        "sns.heatmap(cm3,cmap='plasma',annot=True)\n",
        "plt.title('Confusion Matrix(VGG19)')\n",
        "plt.ylabel('Actal Values')\n",
        "plt.xlabel('Predicted Values')\n",
        "plt.show()\n",
        "plt.figure(figsize=(5,4))\n",
        "sns.heatmap(cm4,cmap='plasma',annot=True)\n",
        "plt.title('Confusion Matrix(Xception)')\n",
        "plt.ylabel('Actal Values')\n",
        "plt.xlabel('Predicted Values')\n",
        "plt.show()"
      ],
      "execution_count": null,
      "outputs": [
        {
          "output_type": "display_data",
          "data": {
            "image/png": "[encoded data removed]",
            "text/plain": [
              "<Figure size 360x288 with 2 Axes>"
            ]
          },
          "metadata": {
            "needs_background": "light"
          }
        },
        {
          "output_type": "display_data",
          "data": {
            "image/png": "[encoded data removed]",
            "text/plain": [
              "<Figure size 360x288 with 2 Axes>"
            ]
          },
          "metadata": {
            "needs_background": "light"
          }
        },
        {
          "output_type": "display_data",
          "data": {
            "image/png": "[encoded data removed]",
            "text/plain": [
              "<Figure size 360x288 with 2 Axes>"
            ]
          },
          "metadata": {
            "needs_background": "light"
          }
        },
        {
          "output_type": "display_data",
          "data": {
            "image/png": "[encoded data removed]",
            "text/plain": [
              "<Figure size 360x288 with 2 Axes>"
            ]
          },
          "metadata": {
            "needs_background": "light"
          }
        }
      ]
    },
    {
      "cell_type": "code",
      "metadata": {
        "id": "nc0vZYdTvyU1"
      },
      "source": [
        "def confusion_metrics (conf_matrix):\n",
        "# save confusion matrix and slice into four pieces\n",
        "    TP = conf_matrix[1][1]\n",
        "    TN = conf_matrix[0][0]\n",
        "    FP = conf_matrix[0][1]\n",
        "    FN = conf_matrix[1][0]\n",
        "    print('True Positives:', TP)\n",
        "    print('True Negatives:', TN)\n",
        "    print('False Positives:', FP)\n",
        "    print('False Negatives:', FN)\n",
        "    \n",
        "    # calculate accuracy\n",
        "    conf_accuracy = (float (TP+TN) / float(TP + TN + FP + FN))\n",
        "    \n",
        "    # calculate mis-classification\n",
        "    conf_misclassification = 1- conf_accuracy\n",
        "    \n",
        "    # calculate the sensitivity\n",
        "    conf_sensitivity = (TP / float(TP + FN))\n",
        "    # calculate the specificity\n",
        "    conf_specificity = (TN / float(TN + FP))\n",
        "    \n",
        "    # calculate precision\n",
        "    conf_precision = (TN / float(TN + FP))\n",
        "    # calculate f_1 score\n",
        "    conf_f1 = 2 * ((conf_precision * conf_sensitivity) / (conf_precision + conf_sensitivity))\n",
        "    print('-'*50)\n",
        "    print(f'Accuracy: {round(conf_accuracy,2)}') \n",
        "    print(f'Mis-Classification: {round(conf_misclassification,2)}') \n",
        "    print(f'Sensitivity: {round(conf_sensitivity,2)}') \n",
        "    print(f'Specificity: {round(conf_specificity,2)}') \n",
        "    print(f'Precision: {round(conf_precision,2)}')\n",
        "    print(f'f_1 Score: {round(conf_f1,2)}')"
      ],
      "execution_count": null,
      "outputs": []
    },
    {
      "cell_type": "code",
      "metadata": {
        "colab": {
          "base_uri": "https://localhost:8080/"
        },
        "id": "UKtq-iGWv2b2",
        "outputId": "8da062c5-3d20-47a4-cc55-82cc97a2e61e"
      },
      "source": [
        "confusion_metrics(cm4)"
      ],
      "execution_count": null,
      "outputs": [
        {
          "output_type": "stream",
          "text": [
            "True Positives: 106\n",
            "True Negatives: 135\n",
            "False Positives: 0\n",
            "False Negatives: 0\n",
            "--------------------------------------------------\n",
            "Accuracy: 1.0\n",
            "Mis-Classification: 0.0\n",
            "Sensitivity: 1.0\n",
            "Specificity: 1.0\n",
            "Precision: 1.0\n",
            "f_1 Score: 1.0\n"
          ],
          "name": "stdout"
        }
      ]
    },
    {
      "cell_type": "code",
      "metadata": {
        "id": "lyIiTg1ev5o3"
      },
      "source": [
        ""
      ],
      "execution_count": null,
      "outputs": []
    }
  ]
}